{
  "cells": [
    {
      "cell_type": "markdown",
      "metadata": {
        "id": "hhhP1JoutiHm"
      },
      "source": [
        "# Demo:  Predicting Diabetes Progression using Mulitple Linear Regression"
      ]
    },
    {
      "cell_type": "markdown",
      "metadata": {
        "id": "xG0pLjGbtiHn"
      },
      "source": [
        "In this demo, you will learn how to:\n",
        "* Fit multiple linear regression models, by hand and using Python's Scikit-Learn package.  \n",
        "* Split data into training and test set.\n",
        "* Manipulate and visualize multivariable arrays.\n",
        "\n",
        "We first load the packages as usual."
      ]
    },
    {
      "cell_type": "code",
      "execution_count": 1,
      "metadata": {
        "id": "hw4RxJz6tiHo"
      },
      "outputs": [],
      "source": [
        "import numpy as np\n",
        "import matplotlib\n",
        "import matplotlib.pyplot as plt\n",
        "%matplotlib inline"
      ]
    },
    {
      "cell_type": "markdown",
      "metadata": {
        "id": "9VZbBnpItiHo"
      },
      "source": [
        "We will also load a few modules from [scikit-learn](https://scikit-learn.org/stable/), which is one of the most popular machine learning libraries in Python that does not focus specifically on neural nets and deep learning. Using the libary is a bit overkill at this point, but I want you to get some practice because it will be very useful later in the course, and for your projects."
      ]
    },
    {
      "cell_type": "code",
      "execution_count": 2,
      "metadata": {
        "id": "vOa4eL0BtiHo"
      },
      "outputs": [],
      "source": [
        "from sklearn import datasets, linear_model"
      ]
    },
    {
      "cell_type": "markdown",
      "metadata": {
        "id": "rNT8XAsOtiHo"
      },
      "source": [
        "## Diabetes Data Example\n",
        "To illustrate the concepts, we load a well-known diabetes data set.  This dataset can be downloaded in raw form from [https://www4.stat.ncsu.edu/~boos/var.select/diabetes.html](https://www4.stat.ncsu.edu/~boos/var.select/diabetes.html). However, it is also included in the `sklearn.datasets` module, which prepackages a number of benchmark datasets for easy experimentation. It can be loaded as follows:"
      ]
    },
    {
      "cell_type": "code",
      "execution_count": 3,
      "metadata": {
        "id": "jZy_8ldOtiHp"
      },
      "outputs": [],
      "source": [
        "# Load the diabetes dataset\n",
        "diabetes = datasets.load_diabetes()\n",
        "X = diabetes.data\n",
        "y = diabetes.target"
      ]
    },
    {
      "cell_type": "markdown",
      "metadata": {
        "id": "bRB20EnEtiHp"
      },
      "source": [
        "It's always good to check what type of objects we have loaded in. You can confirm using the `type` function that our data is preloaded into `numpy` arrays, which is how we want it."
      ]
    },
    {
      "cell_type": "code",
      "execution_count": 4,
      "metadata": {
        "colab": {
          "base_uri": "https://localhost:8080/"
        },
        "id": "BUNB7wpatiHp",
        "outputId": "3658e9aa-4f78-46be-8e2f-5a3b0425fe5b"
      },
      "outputs": [
        {
          "output_type": "execute_result",
          "data": {
            "text/plain": [
              "numpy.ndarray"
            ]
          },
          "metadata": {},
          "execution_count": 4
        }
      ],
      "source": [
        "type(X)"
      ]
    },
    {
      "cell_type": "markdown",
      "metadata": {
        "id": "pirEMVObtiHp"
      },
      "source": [
        "The predictor variables are **age**, **sex**, **body mass index**, **average blood pressure**, and **six blood serum measurements** (think iron, cholesterol, lipid levels, etc.). Each corresponds to a column in the data matrix `X`. Note that these columns have been *mean centered* and had their *variance normalized* (i.e. scaled). This will not effect your linear regression model at all, but it's good to know."
      ]
    },
    {
      "cell_type": "markdown",
      "metadata": {
        "id": "4NVJK9nytiHp"
      },
      "source": [
        "When you look at the first 5 entries of the **age** column, we don't see age numbers we might expect:"
      ]
    },
    {
      "cell_type": "code",
      "execution_count": 5,
      "metadata": {
        "scrolled": true,
        "colab": {
          "base_uri": "https://localhost:8080/",
          "height": 35
        },
        "id": "Nv1bb6WjtiHp",
        "outputId": "81db5244-2cf4-4a86-8a8f-56f62c5aa06f"
      },
      "outputs": [
        {
          "output_type": "execute_result",
          "data": {
            "text/plain": [
              "'[ 0.03807591 -0.00188202  0.08529891 -0.08906294  0.00538306]'"
            ],
            "application/vnd.google.colaboratory.intrinsic+json": {
              "type": "string"
            }
          },
          "metadata": {},
          "execution_count": 5
        }
      ],
      "source": [
        "str(X[0:5,0])"
      ]
    },
    {
      "cell_type": "markdown",
      "metadata": {
        "id": "iML8iBAetiHp"
      },
      "source": [
        "And when you look at the first 5 entries of the **sex** column, we don't see binary categories like 1 for female, 2 for male. We see real numbers."
      ]
    },
    {
      "cell_type": "code",
      "execution_count": 6,
      "metadata": {
        "scrolled": true,
        "colab": {
          "base_uri": "https://localhost:8080/",
          "height": 35
        },
        "id": "9S_HUN0gtiHq",
        "outputId": "cf2ae843-94eb-4bfe-ed32-414f52db7427"
      },
      "outputs": [
        {
          "output_type": "execute_result",
          "data": {
            "text/plain": [
              "'[ 0.05068012 -0.04464164  0.05068012 -0.04464164 -0.04464164]'"
            ],
            "application/vnd.google.colaboratory.intrinsic+json": {
              "type": "string"
            }
          },
          "metadata": {},
          "execution_count": 6
        }
      ],
      "source": [
        "str(X[0:5,1])"
      ]
    },
    {
      "cell_type": "markdown",
      "metadata": {
        "id": "S7j831MrtiHq"
      },
      "source": [
        "**NOTE**: This is one reason to be cautious about using built in datasets. Often a lot of information is lost during preprocessing which makes it harder to reason about the data than if you were working with the raw files. This is just a simple teaching demo, so we don't care for today, but keep that in mind when downloading data for your projects."
      ]
    },
    {
      "cell_type": "markdown",
      "metadata": {
        "id": "YQ3vqSWCtiHq"
      },
      "source": [
        "The target values `y` represent a \"quantitative measure of diabetes disease progression\" that we wish to predict. The exact meaning of this measure seems to have been lost in data translation, but we will work with it anyway.\n",
        "\n",
        "The number of attributes and samples are computed from the shape:"
      ]
    },
    {
      "cell_type": "code",
      "execution_count": 7,
      "metadata": {
        "colab": {
          "base_uri": "https://localhost:8080/"
        },
        "id": "h6cErvz2tiHq",
        "outputId": "63f2ed80-c1a3-484e-a7bd-0e1e2dca2b26"
      },
      "outputs": [
        {
          "output_type": "stream",
          "name": "stdout",
          "text": [
            "num samples=442 num attributes=10\n"
          ]
        }
      ],
      "source": [
        "nsamp, natt = X.shape\n",
        "print(\"num samples=\"+str(nsamp)+\" num attributes=\"+str(natt))"
      ]
    },
    {
      "cell_type": "markdown",
      "metadata": {
        "id": "9zVEO1RktiHq"
      },
      "source": [
        "## Using Simple Linear Regression for Each Feature Individually\n",
        "\n",
        "As a first attempt to predict diabetes progression, we could try *one attribute at a time*.  That is, for each attribute $x_k$, we could attempt to fit a simple linear regression model:\n",
        "$$ y \\approx \\beta_{0,k} + \\beta_{1,k}x_k$$\n",
        "where $\\beta_{0,k}$ and $\\beta_{1,k}$ are the coefficients in the simple linear regression model using only the attribute $x_k$.\n",
        "\n",
        "The following code computes the $\\ell_2$ loss for each variable $k$ as well as the coefficients in the linear model, $\\beta_{0,k}$ and $\\beta_{1,k}$"
      ]
    },
    {
      "cell_type": "code",
      "execution_count": 8,
      "metadata": {
        "scrolled": false,
        "colab": {
          "base_uri": "https://localhost:8080/"
        },
        "id": "KjYkj3z7tiHq",
        "outputId": "6209f2b6-ce24-4197-8226-37afed517689"
      },
      "outputs": [
        {
          "output_type": "stream",
          "name": "stdout",
          "text": [
            "0 loss=2.53e+06 beta0=152.13348416289594 beta1=304.1830745283059\n",
            "1 loss=2.62e+06 beta0=152.13348416289594 beta1=69.71535567841458\n",
            "2 loss=1.72e+06 beta0=152.13348416289617 beta1=949.4352603840387\n",
            "3 loss=2.11e+06 beta0=152.13348416289597 beta1=714.7382594960409\n",
            "4 loss=2.50e+06 beta0=152.13348416289594 beta1=343.25445188896646\n",
            "5 loss=2.54e+06 beta0=152.13348416289594 beta1=281.78459335245714\n",
            "6 loss=2.21e+06 beta0=152.13348416289594 beta1=-639.145279322535\n",
            "7 loss=2.14e+06 beta0=152.13348416289594 beta1=696.8830300922256\n",
            "8 loss=1.78e+06 beta0=152.13348416289585 beta1=916.1373745509136\n",
            "9 loss=2.24e+06 beta0=152.13348416289594 beta1=619.2228206843714\n"
          ]
        }
      ],
      "source": [
        "ym = np.mean(y)\n",
        "losses = np.zeros(natt)\n",
        "beta0 = np.zeros(natt)\n",
        "beta1 = np.zeros(natt)\n",
        "for k in range(natt):\n",
        "    xm = np.mean(X[:,k])\n",
        "    sxy = np.mean((X[:,k]-xm)*(y-ym))\n",
        "    sxx = np.mean((X[:,k]-xm)**2)\n",
        "    beta1[k] = sxy/sxx\n",
        "    beta0[k] = ym - beta1[k]*xm\n",
        "    errs = y - beta1[k]*X[:,k] - beta0[k]\n",
        "    losses[k] = np.sum(errs**2)\n",
        "\n",
        "    print(str(k)+\" loss=\"+\"{:.2e}\".format(losses[k])+\" beta0=\"+str(beta0[k])+\" beta1=\"+str(beta1[k]))\n",
        ""
      ]
    },
    {
      "cell_type": "markdown",
      "metadata": {
        "id": "E7pJNadktiHq"
      },
      "source": [
        "**Test yourself:** Why are all the `beta0` values the same, no matter what predictor we use?"
      ]
    },
    {
      "cell_type": "markdown",
      "metadata": {
        "id": "EDvysV5stiHr"
      },
      "source": [
        "We see that the best prediction is given by BMI index, with loss 1.72e+06. If you convert this to an $R^2$ value, as described in class, we get a value of $R^2 = .344$, which on a scale from $[0,1]$ does not indicate too strong of a fit."
      ]
    },
    {
      "cell_type": "code",
      "execution_count": 9,
      "metadata": {
        "colab": {
          "base_uri": "https://localhost:8080/"
        },
        "id": "GpR75tY3tiHr",
        "outputId": "892f32d2-9bbd-45c8-fdc2-1673b95fbe68"
      },
      "outputs": [
        {
          "output_type": "stream",
          "name": "stdout",
          "text": [
            "Rsqr=0.344\n"
          ]
        }
      ],
      "source": [
        "syy = np.mean((y-ym)**2)\n",
        "rsqr = 1 - np.min(losses)/(nsamp*syy)\n",
        "print(\"Rsqr=\"+\"{:.3}\".format(rsqr))"
      ]
    },
    {
      "cell_type": "markdown",
      "metadata": {
        "id": "HQafzPrVtiHr"
      },
      "source": [
        "We can see this somewhat poor fit in a scatter plot as well where there is a significat variation from the regression line."
      ]
    },
    {
      "cell_type": "code",
      "execution_count": 10,
      "metadata": {
        "colab": {
          "base_uri": "https://localhost:8080/",
          "height": 430
        },
        "id": "cIvqtURLtiHr",
        "outputId": "c68d2fdc-9241-49c6-8419-0d6f669625c8"
      },
      "outputs": [
        {
          "output_type": "display_data",
          "data": {
            "text/plain": [
              "<Figure size 640x480 with 1 Axes>"
            ],
            "image/png": "[encoded data removed]"
          },
          "metadata": {}
        }
      ],
      "source": [
        "# Find the index of the single variable with the best squared loss\n",
        "imax = np.argmin(losses)\n",
        "\n",
        "# Regression line over the range of x values\n",
        "xmin = np.min(X[:,imax])\n",
        "xmax = np.max(X[:,imax])\n",
        "ymin = beta0[imax] + beta1[imax]*xmin\n",
        "ymax = beta0[imax] + beta1[imax]*xmax\n",
        "plt.plot([xmin,xmax], [ymin,ymax], 'r-', linewidth=3)\n",
        "\n",
        "# Scatter plot of points\n",
        "plt.scatter(X[:,imax],y)\n",
        "plt.grid()"
      ]
    },
    {
      "cell_type": "markdown",
      "metadata": {
        "id": "vO8AMlHqtiHr"
      },
      "source": [
        "Note that the calculations above could have been done without a for-loop using Python broadcasting:"
      ]
    },
    {
      "cell_type": "code",
      "execution_count": 11,
      "metadata": {
        "id": "VzuBzSLGtiHr"
      },
      "outputs": [],
      "source": [
        "# Remove the means\n",
        "ym = np.mean(y)\n",
        "y1 = y-ym  # a column vecotor each minus mean\n",
        "Xm = np.mean(X,axis=0) # averaging over column, resulting a row vector of dimension natt\n",
        "X1 = X - Xm[None,:] # minus the same mean in each column\n",
        "\n",
        "# Compute the correlations per features\n",
        "Sxx = np.mean(X1**2,axis=0) #a row vector with each element indicating the variance of one attribute\n",
        "Sxy = np.mean(X1*y1[:,None],axis=0) #a row vector with each element indicating the covarance on one attribute to the targer\n",
        "\n",
        "# Compute the coefficients and losses per feature\n",
        "beta1 = Sxy/Sxx # element wise division, resulting a row vector containing  beta1 for each attribute\n",
        "beta0 = ym - beta1*Xm # element wise multiplication, resulting a row vector containing beta0 for each attribute\n",
        "errs = ((X*beta1) + beta0) - y[:,None] # results in a matrix where every column contains the residuals for predictor k\n",
        "losses = np.sum(errs**2,axis=0) # sums up the squared size of the residuals across each column"
      ]
    },
    {
      "cell_type": "markdown",
      "metadata": {
        "id": "o4fnZ8FttiHr"
      },
      "source": [
        "Now let us see whether we get the same result:"
      ]
    },
    {
      "cell_type": "code",
      "execution_count": 12,
      "metadata": {
        "scrolled": true,
        "colab": {
          "base_uri": "https://localhost:8080/"
        },
        "id": "qYVWsF_LtiHr",
        "outputId": "35bd8cc6-db7a-440a-8b3b-ff2b94b3c87c"
      },
      "outputs": [
        {
          "output_type": "stream",
          "name": "stdout",
          "text": [
            "0 loss=2.53e+06 beta0=152.13348416289594 beta1=304.1830745283064\n",
            "1 loss=2.62e+06 beta0=152.13348416289594 beta1=69.71535567841418\n",
            "2 loss=1.72e+06 beta0=152.13348416289617 beta1=949.4352603840389\n",
            "3 loss=2.11e+06 beta0=152.13348416289597 beta1=714.7382594960393\n",
            "4 loss=2.50e+06 beta0=152.13348416289594 beta1=343.2544518889671\n",
            "5 loss=2.54e+06 beta0=152.13348416289594 beta1=281.7845933524569\n",
            "6 loss=2.21e+06 beta0=152.13348416289594 beta1=-639.1452793225359\n",
            "7 loss=2.14e+06 beta0=152.13348416289594 beta1=696.8830300922268\n",
            "8 loss=1.78e+06 beta0=152.13348416289585 beta1=916.137374550914\n",
            "9 loss=2.24e+06 beta0=152.13348416289594 beta1=619.2228206843718\n"
          ]
        }
      ],
      "source": [
        "for k in range(natt):\n",
        "    print(str(k)+\" loss=\"+\"{:.2e}\".format(losses[k])+\" beta0=\"+str(beta0[k])+\" beta1=\"+str(beta1[k]))"
      ]
    },
    {
      "cell_type": "markdown",
      "metadata": {
        "id": "RQs1UCIQtiHs"
      },
      "source": [
        "## Improvements with a Multiple Variable Linear Model\n",
        "\n",
        "One possible way to try to improve the fit is to use multiple variables at the same time.\n",
        "\n",
        "We can manually compute the regression coefficients using the least-squares matrix formula given in class.\n",
        "\n",
        "To compute the coefficients manually, we first append an all ones columns onto `X` using the `ones` command and `hstack`.  Note that after we do this, `X` will have 11 columns -- one more column that original data matrix."
      ]
    },
    {
      "cell_type": "code",
      "execution_count": 13,
      "metadata": {
        "scrolled": true,
        "colab": {
          "base_uri": "https://localhost:8080/"
        },
        "id": "62hNu-LntiHs",
        "outputId": "148659a1-1b47-4029-bddd-1d7c1c866dd0"
      },
      "outputs": [
        {
          "output_type": "execute_result",
          "data": {
            "text/plain": [
              "(442, 11)"
            ]
          },
          "metadata": {},
          "execution_count": 13
        }
      ],
      "source": [
        "ones = np.ones((nsamp,1))\n",
        "X_orig = X\n",
        "X = np.hstack((ones,X_orig))\n",
        "X.shape"
      ]
    },
    {
      "cell_type": "markdown",
      "metadata": {
        "id": "1ZV9nIC3tiHs"
      },
      "source": [
        "Next we need to solve $\\min_{\\mathbf{\\beta}}\\|\\mathbf{y} - \\mathbf{X\\beta}\\|_2^2$. The most obvious way to do so is via the direct matrix equation derived in class: $\\mathbf{\\beta}^* = (\\mathbf{X}^T\\mathbf{X})^{-1}\\mathbf{X}^T\\mathbf{y}$."
      ]
    },
    {
      "cell_type": "code",
      "execution_count": 14,
      "metadata": {
        "colab": {
          "base_uri": "https://localhost:8080/"
        },
        "id": "SwdWIJLPtiHs",
        "outputId": "4434186f-8f54-465c-825c-80735a18def9"
      },
      "outputs": [
        {
          "output_type": "stream",
          "name": "stdout",
          "text": [
            "[ 152.13348416  -10.0098663  -239.81564367  519.84592005  324.3846455\n",
            " -792.17563855  476.73902101  101.04326794  177.06323767  751.27369956\n",
            "   67.62669218]\n"
          ]
        }
      ],
      "source": [
        "Xt = np.transpose(X)\n",
        "beta=np.dot(np.linalg.inv(np.dot(Xt,X)),np.dot(Xt,y))\n",
        "print(beta)"
      ]
    },
    {
      "cell_type": "markdown",
      "metadata": {
        "id": "ZELv7UEktiHs"
      },
      "source": [
        "Note that `beta[0]` is the value of the intercept from the regression fit."
      ]
    },
    {
      "cell_type": "markdown",
      "metadata": {
        "id": "o2Fbul9wtiHs"
      },
      "source": [
        "The notation looks a bit cleaner if we use `numpy`'s `matrix` type. Note that the `matrix` type is a subclass of `ndarray`. It really has no advantages other than the fact that the multiplication operator `*` performs actual matrix multiplication. Seems like a small thing, but can save you a lot of headache over using multiple nested `np.dot` operations."
      ]
    },
    {
      "cell_type": "code",
      "execution_count": 15,
      "metadata": {
        "scrolled": false,
        "colab": {
          "base_uri": "https://localhost:8080/"
        },
        "id": "K8gjSk3otiHs",
        "outputId": "ecc147ee-c043-4d18-fd1e-dd013bb04251"
      },
      "outputs": [
        {
          "output_type": "stream",
          "name": "stdout",
          "text": [
            "[[ 152.13348416]\n",
            " [ -10.0098663 ]\n",
            " [-239.81564367]\n",
            " [ 519.84592005]\n",
            " [ 324.3846455 ]\n",
            " [-792.17563855]\n",
            " [ 476.73902101]\n",
            " [ 101.04326794]\n",
            " [ 177.06323767]\n",
            " [ 751.27369956]\n",
            " [  67.62669218]]\n"
          ]
        }
      ],
      "source": [
        "Xmat=np.matrix(X)\n",
        "ymat=np.matrix(y)\n",
        "ymat=np.transpose(ymat)\n",
        "Xmatt=np.transpose(Xmat)\n",
        "beta=np.linalg.inv(Xmatt*Xmat)*Xmatt*ymat\n",
        "print(beta)"
      ]
    },
    {
      "cell_type": "markdown",
      "metadata": {
        "id": "5UaFFjNctiHs"
      },
      "source": [
        "An often slightly faster alternative is to use the `lstsq` method, which solves $\\min_{\\mathbf{\\beta}}\\|\\mathbf{y} - \\mathbf{X\\beta}\\|_2^2$ using a QR decomposition. This should find the exact same least-squares fit. You might get a warning when you run `lstqr` about some defaults changing in the future. You can safetly ignore."
      ]
    },
    {
      "cell_type": "code",
      "execution_count": 16,
      "metadata": {
        "scrolled": true,
        "colab": {
          "base_uri": "https://localhost:8080/"
        },
        "id": "_lOWXS4qtiHs",
        "outputId": "8456933c-e2aa-44f1-885c-4a0c907b1b9b"
      },
      "outputs": [
        {
          "output_type": "stream",
          "name": "stdout",
          "text": [
            "[ 152.13348416  -10.0098663  -239.81564367  519.84592005  324.3846455\n",
            " -792.17563855  476.73902101  101.04326794  177.06323767  751.27369956\n",
            "   67.62669218]\n"
          ]
        },
        {
          "output_type": "stream",
          "name": "stderr",
          "text": [
            "<ipython-input-16-b80b493bcb0c>:1: FutureWarning: `rcond` parameter will change to the default of machine precision times ``max(M, N)`` where M and N are the input matrix dimensions.\n",
            "To use the future default and silence this warning we advise to pass `rcond=None`, to keep using the old, explicitly pass `rcond=-1`.\n",
            "  out = np.linalg.lstsq(X,y)\n"
          ]
        }
      ],
      "source": [
        "out = np.linalg.lstsq(X,y)\n",
        "beta = out[0]\n",
        "print(beta)"
      ]
    },
    {
      "cell_type": "markdown",
      "metadata": {
        "id": "yy-znQlTtiHt"
      },
      "source": [
        "Finally, for very large problems (many examples and/or features), *iterative* methods can offer a much faster approach to solving $\\min_{\\mathbf{\\beta}}\\|\\mathbf{y} - \\mathbf{X\\beta}\\|_2^2$. There are several options avialable in the `scipy` library, including the populat LSQR method."
      ]
    },
    {
      "cell_type": "code",
      "execution_count": 17,
      "metadata": {
        "id": "gPJTKWKstiHt"
      },
      "outputs": [],
      "source": [
        "import scipy as sp"
      ]
    },
    {
      "cell_type": "code",
      "execution_count": 18,
      "metadata": {
        "colab": {
          "base_uri": "https://localhost:8080/"
        },
        "id": "xpMDWfS3tiHt",
        "outputId": "5e6c79e8-b109-409e-fb4f-9fb17be236de"
      },
      "outputs": [
        {
          "output_type": "stream",
          "name": "stdout",
          "text": [
            "[ 152.13348416  -10.00985784 -239.81563637  519.8459319   324.38465612\n",
            " -792.17562514  476.73903475  101.0432569   177.06325442  751.27371435\n",
            "   67.62670477]\n"
          ]
        }
      ],
      "source": [
        "out = sp.sparse.linalg.lsqr(X,y)\n",
        "beta = out[0]\n",
        "print(beta)"
      ]
    },
    {
      "cell_type": "markdown",
      "metadata": {
        "id": "-1NT8ayZtiHt"
      },
      "source": [
        "Hopefully you got the same values of $\\mathbf{\\beta}$ no matter which algorithm you used. The differences are negligble because this demo problem is so small, but if you ever want to compare runtimes head-to-head, you can use the `time` library to time different operations. Here's an example that times the direct approach:"
      ]
    },
    {
      "cell_type": "code",
      "execution_count": 19,
      "metadata": {
        "colab": {
          "base_uri": "https://localhost:8080/"
        },
        "id": "0HTK-ESttiHu",
        "outputId": "4e1c5246-34bc-409b-a00f-f156a5b82dc1"
      },
      "outputs": [
        {
          "output_type": "stream",
          "name": "stdout",
          "text": [
            "direct matrix computation time: 0.0011584758758544922 seconds\n"
          ]
        }
      ],
      "source": [
        "import time\n",
        "t = time.time()\n",
        "beta=np.linalg.inv(Xmatt*Xmat)*Xmatt*ymat\n",
        "elapsed = time.time() - t\n",
        "print(\"direct matrix computation time: \" + str(elapsed) + \" seconds\")"
      ]
    },
    {
      "cell_type": "markdown",
      "metadata": {
        "id": "df3TB8QVtiHu"
      },
      "source": [
        "Now let's compute the loss for our muliple variable model. Be careful with arrays vs. matrices! Always check what you're working with by running commands like `type(beta)`. Or multiplications may not behave as expected."
      ]
    },
    {
      "cell_type": "code",
      "execution_count": 20,
      "metadata": {
        "scrolled": true,
        "colab": {
          "base_uri": "https://localhost:8080/"
        },
        "id": "a_943gB5tiHu",
        "outputId": "f1fd5782-78cf-46f3-c86d-c95daa3ad8ee"
      },
      "outputs": [
        {
          "output_type": "stream",
          "name": "stdout",
          "text": [
            "multiple variable loss=1.26e+06\n"
          ]
        }
      ],
      "source": [
        "yp = Xmat*beta\n",
        "errs = np.array(ymat - yp)\n",
        "lossm = np.sum(errs**2)\n",
        "\n",
        "print(\"multiple variable loss=\"+\"{:.2e}\".format(lossm))"
      ]
    },
    {
      "cell_type": "markdown",
      "metadata": {
        "id": "0BBVANNAtiHu"
      },
      "source": [
        "We could have also done everything using matrix operations!"
      ]
    },
    {
      "cell_type": "code",
      "execution_count": 21,
      "metadata": {
        "colab": {
          "base_uri": "https://localhost:8080/"
        },
        "id": "GFy_egaktiHu",
        "outputId": "b0508408-21bd-4531-9e78-b44fe1893249"
      },
      "outputs": [
        {
          "output_type": "stream",
          "name": "stdout",
          "text": [
            "multiple variable loss=1.26e+06\n"
          ]
        }
      ],
      "source": [
        "yp = Xmat*beta\n",
        "lossm = np.linalg.norm(np.array(ymat - yp))**2\n",
        "\n",
        "print(\"multiple variable loss=\"+\"{:.2e}\".format(lossm))"
      ]
    },
    {
      "cell_type": "markdown",
      "metadata": {
        "id": "5DKVzCwCtiHu"
      },
      "source": [
        "Note that this loss is about $30\\%$ lower than what we acheived with the best single variable linear regression, which is significant. Let's also normalize the loss to get an $R^2$ value, which we can compare to the value of $34\\%$ we obtained earlier. Higher $R^2$ is better."
      ]
    },
    {
      "cell_type": "code",
      "execution_count": 22,
      "metadata": {
        "colab": {
          "base_uri": "https://localhost:8080/"
        },
        "id": "uBs0nZqytiHu",
        "outputId": "dbf06d1e-2d4f-45f1-d3ca-b20fa8a39193"
      },
      "outputs": [
        {
          "output_type": "execute_result",
          "data": {
            "text/plain": [
              "0.5177484222203501"
            ]
          },
          "metadata": {},
          "execution_count": 22
        }
      ],
      "source": [
        "rsqr = 1 - lossm/(nsamp*syy)\n",
        "rsqr"
      ]
    },
    {
      "cell_type": "markdown",
      "metadata": {
        "id": "rzLalDnFtiHu"
      },
      "source": [
        "## Using built in sci-kit learn model\n",
        "\n",
        "We can also fit the multiple variable linear regression model using Sci-kit Learn's built in functionality. As mentioned, this is a bit overkill at this point, but it's good to see because you might use other built in models from `sklearn` later in the course. The disadvantage is that this approach leaves everything inside a \"black-box\". For example, how do you think this method is solving the required least-squares optimization problem? Using an iterative method like `lsqr`? Or a direct method?"
      ]
    },
    {
      "cell_type": "markdown",
      "metadata": {
        "id": "5QlqYnudtiHu"
      },
      "source": [
        "To fit the linear model, we first create a regression object and then fit the data with regression object."
      ]
    },
    {
      "cell_type": "code",
      "execution_count": 23,
      "metadata": {
        "colab": {
          "base_uri": "https://localhost:8080/",
          "height": 75
        },
        "id": "5HJFQTVwtiHv",
        "outputId": "0cfb9bc9-f848-470a-dfa9-bbd5ba3eb4e6"
      },
      "outputs": [
        {
          "output_type": "execute_result",
          "data": {
            "text/plain": [
              "LinearRegression()"
            ],
            "text/html": [
              "<style>#sk-container-id-1 {color: black;background-color: white;}#sk-container-id-1 pre{padding: 0;}#sk-container-id-1 div.sk-toggleable {background-color: white;}#sk-container-id-1 label.sk-toggleable__label {cursor: pointer;display: block;width: 100%;margin-bottom: 0;padding: 0.3em;box-sizing: border-box;text-align: center;}#sk-container-id-1 label.sk-toggleable__label-arrow:before {content: \"▸\";float: left;margin-right: 0.25em;color: #696969;}#sk-container-id-1 label.sk-toggleable__label-arrow:hover:before {color: black;}#sk-container-id-1 div.sk-estimator:hover label.sk-toggleable__label-arrow:before {color: black;}#sk-container-id-1 div.sk-toggleable__content {max-height: 0;max-width: 0;overflow: hidden;text-align: left;background-color: #f0f8ff;}#sk-container-id-1 div.sk-toggleable__content pre {margin: 0.2em;color: black;border-radius: 0.25em;background-color: #f0f8ff;}#sk-container-id-1 input.sk-toggleable__control:checked~div.sk-toggleable__content {max-height: 200px;max-width: 100%;overflow: auto;}#sk-container-id-1 input.sk-toggleable__control:checked~label.sk-toggleable__label-arrow:before {content: \"▾\";}#sk-container-id-1 div.sk-estimator input.sk-toggleable__control:checked~label.sk-toggleable__label {background-color: #d4ebff;}#sk-container-id-1 div.sk-label input.sk-toggleable__control:checked~label.sk-toggleable__label {background-color: #d4ebff;}#sk-container-id-1 input.sk-hidden--visually {border: 0;clip: rect(1px 1px 1px 1px);clip: rect(1px, 1px, 1px, 1px);height: 1px;margin: -1px;overflow: hidden;padding: 0;position: absolute;width: 1px;}#sk-container-id-1 div.sk-estimator {font-family: monospace;background-color: #f0f8ff;border: 1px dotted black;border-radius: 0.25em;box-sizing: border-box;margin-bottom: 0.5em;}#sk-container-id-1 div.sk-estimator:hover {background-color: #d4ebff;}#sk-container-id-1 div.sk-parallel-item::after {content: \"\";width: 100%;border-bottom: 1px solid gray;flex-grow: 1;}#sk-container-id-1 div.sk-label:hover label.sk-toggleable__label {background-color: #d4ebff;}#sk-container-id-1 div.sk-serial::before {content: \"\";position: absolute;border-left: 1px solid gray;box-sizing: border-box;top: 0;bottom: 0;left: 50%;z-index: 0;}#sk-container-id-1 div.sk-serial {display: flex;flex-direction: column;align-items: center;background-color: white;padding-right: 0.2em;padding-left: 0.2em;position: relative;}#sk-container-id-1 div.sk-item {position: relative;z-index: 1;}#sk-container-id-1 div.sk-parallel {display: flex;align-items: stretch;justify-content: center;background-color: white;position: relative;}#sk-container-id-1 div.sk-item::before, #sk-container-id-1 div.sk-parallel-item::before {content: \"\";position: absolute;border-left: 1px solid gray;box-sizing: border-box;top: 0;bottom: 0;left: 50%;z-index: -1;}#sk-container-id-1 div.sk-parallel-item {display: flex;flex-direction: column;z-index: 1;position: relative;background-color: white;}#sk-container-id-1 div.sk-parallel-item:first-child::after {align-self: flex-end;width: 50%;}#sk-container-id-1 div.sk-parallel-item:last-child::after {align-self: flex-start;width: 50%;}#sk-container-id-1 div.sk-parallel-item:only-child::after {width: 0;}#sk-container-id-1 div.sk-dashed-wrapped {border: 1px dashed gray;margin: 0 0.4em 0.5em 0.4em;box-sizing: border-box;padding-bottom: 0.4em;background-color: white;}#sk-container-id-1 div.sk-label label {font-family: monospace;font-weight: bold;display: inline-block;line-height: 1.2em;}#sk-container-id-1 div.sk-label-container {text-align: center;}#sk-container-id-1 div.sk-container {/* jupyter's `normalize.less` sets `[hidden] { display: none; }` but bootstrap.min.css set `[hidden] { display: none !important; }` so we also need the `!important` here to be able to override the default hidden behavior on the sphinx rendered scikit-learn.org. See: https://github.com/scikit-learn/scikit-learn/issues/21755 */display: inline-block !important;position: relative;}#sk-container-id-1 div.sk-text-repr-fallback {display: none;}</style><div id=\"sk-container-id-1\" class=\"sk-top-container\"><div class=\"sk-text-repr-fallback\"><pre>LinearRegression()</pre><b>In a Jupyter environment, please rerun this cell to show the HTML representation or trust the notebook. <br />On GitHub, the HTML representation is unable to render, please try loading this page with nbviewer.org.</b></div><div class=\"sk-container\" hidden><div class=\"sk-item\"><div class=\"sk-estimator sk-toggleable\"><input class=\"sk-toggleable__control sk-hidden--visually\" id=\"sk-estimator-id-1\" type=\"checkbox\" checked><label for=\"sk-estimator-id-1\" class=\"sk-toggleable__label sk-toggleable__label-arrow\">LinearRegression</label><div class=\"sk-toggleable__content\"><pre>LinearRegression()</pre></div></div></div></div></div>"
            ]
          },
          "metadata": {},
          "execution_count": 23
        }
      ],
      "source": [
        "X = X[:,1:11]\n",
        "regr = linear_model.LinearRegression()\n",
        "regr.fit(X,y)"
      ]
    },
    {
      "cell_type": "markdown",
      "metadata": {
        "id": "QNES445OtiHv"
      },
      "source": [
        "You can see the intercept and other coefficients."
      ]
    },
    {
      "cell_type": "code",
      "execution_count": 24,
      "metadata": {
        "colab": {
          "base_uri": "https://localhost:8080/"
        },
        "id": "mPaxy52-tiHv",
        "outputId": "b2b234cf-8854-4586-ef68-000ed15b0a31"
      },
      "outputs": [
        {
          "output_type": "execute_result",
          "data": {
            "text/plain": [
              "152.13348416289597"
            ]
          },
          "metadata": {},
          "execution_count": 24
        }
      ],
      "source": [
        "regr.intercept_"
      ]
    },
    {
      "cell_type": "code",
      "execution_count": 25,
      "metadata": {
        "scrolled": true,
        "colab": {
          "base_uri": "https://localhost:8080/"
        },
        "id": "o7gl1BIftiHv",
        "outputId": "2497a253-b6d2-433e-b786-e91b9244833d"
      },
      "outputs": [
        {
          "output_type": "execute_result",
          "data": {
            "text/plain": [
              "array([ -10.0098663 , -239.81564367,  519.84592005,  324.3846455 ,\n",
              "       -792.17563855,  476.73902101,  101.04326794,  177.06323767,\n",
              "        751.27369956,   67.62669218])"
            ]
          },
          "metadata": {},
          "execution_count": 25
        }
      ],
      "source": [
        "regr.coef_"
      ]
    },
    {
      "cell_type": "markdown",
      "metadata": {
        "id": "Ny5H16fGtiHv"
      },
      "source": [
        "We next compute the squared loss by using the `predict` function and you can verify that it's the same as above."
      ]
    },
    {
      "cell_type": "code",
      "execution_count": 26,
      "metadata": {
        "colab": {
          "base_uri": "https://localhost:8080/"
        },
        "id": "y6XWltgCtiHv",
        "outputId": "2a21330f-fc0a-44f3-9cc2-7683fc72641c"
      },
      "outputs": [
        {
          "output_type": "stream",
          "name": "stdout",
          "text": [
            "multiple variable loss=1.26e+06\n"
          ]
        }
      ],
      "source": [
        "y_pred = regr.predict(X)\n",
        "lossm = np.linalg.norm(y_pred - y)**2\n",
        "\n",
        "print(\"multiple variable loss=\"+\"{:.2e}\".format(lossm))"
      ]
    },
    {
      "cell_type": "code",
      "execution_count": 26,
      "metadata": {
        "id": "cCAn2MaOtiHv"
      },
      "outputs": [],
      "source": []
    }
  ],
  "metadata": {
    "anaconda-cloud": {},
    "kernelspec": {
      "display_name": "Python 3",
      "language": "python",
      "name": "python3"
    },
    "language_info": {
      "codemirror_mode": {
        "name": "ipython",
        "version": 3
      },
      "file_extension": ".py",
      "mimetype": "text/x-python",
      "name": "python",
      "nbconvert_exporter": "python",
      "pygments_lexer": "ipython3",
      "version": "3.7.4"
    },
    "colab": {
      "provenance": []
    }
  },
  "nbformat": 4,
  "nbformat_minor": 0
}