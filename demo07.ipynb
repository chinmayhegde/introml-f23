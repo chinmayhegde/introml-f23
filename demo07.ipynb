{
  "nbformat": 4,
  "nbformat_minor": 0,
  "metadata": {
    "colab": {
      "name": "lec5.ipynb",
      "provenance": []
    },
    "kernelspec": {
      "name": "python3",
      "display_name": "Python 3"
    }
  },
  "cells": [
    {
      "cell_type": "code",
      "metadata": {
        "id": "O2PfVTmQ-Jnf",
        "colab_type": "code",
        "outputId": "792e1b51-1e33-42f3-abb5-fdc364f0f6bf",
        "colab": {
          "base_uri": "https://localhost:8080/",
          "height": 51
        }
      },
      "source": [
        "import numpy as np\n",
        "import matplotlib.pyplot as plt\n",
        "\n",
        "from sklearn.datasets import load_digits\n",
        "\n",
        "digits = load_digits()\n",
        "print(digits.data.shape)\n",
        "print(digits.target.shape)"
      ],
      "execution_count": 0,
      "outputs": [
        {
          "output_type": "stream",
          "text": [
            "(1797, 64)\n",
            "(1797,)\n"
          ],
          "name": "stdout"
        }
      ]
    },
    {
      "cell_type": "code",
      "metadata": {
        "id": "5sgdUWFw-e7q",
        "colab_type": "code",
        "outputId": "66f559fc-0dbf-454b-fbdd-b890a70212fb",
        "colab": {
          "base_uri": "https://localhost:8080/",
          "height": 165
        }
      },
      "source": [
        "plt.figure(figsize=(10,4))\n",
        "for index, (image, label) in enumerate(zip(digits.data[0:5],digits.target[0:5])):\n",
        "  plt.subplot(1,5,index+1)\n",
        "  plt.imshow(np.reshape(image, (8,8)), cmap=plt.cm.gray)\n",
        "  plt.title('%i' % label, fontsize = 20)"
      ],
      "execution_count": 0,
      "outputs": [
        {
          "output_type": "display_data",
          "data": {
            "image/png": "[encoded data removed]",
            "text/plain": [
              "<Figure size 720x288 with 5 Axes>"
            ]
          },
          "metadata": {
            "tags": []
          }
        }
      ]
    },
    {
      "cell_type": "code",
      "metadata": {
        "id": "4NC60eU9_VkL",
        "colab_type": "code",
        "outputId": "4d177fce-3476-4481-83eb-7a9df32b233f",
        "colab": {
          "base_uri": "https://localhost:8080/",
          "height": 258
        }
      },
      "source": [
        "from sklearn.linear_model import LogisticRegression\n",
        "from sklearn.model_selection import train_test_split\n",
        "\n",
        "x_train, x_test, y_train, y_test = train_test_split(digits.data, digits.target, test_size=0.2, random_state=0)\n",
        "logisticReg = LogisticRegression()\n",
        "\n",
        "logisticReg.fit(x_train, y_train)"
      ],
      "execution_count": 0,
      "outputs": [
        {
          "output_type": "stream",
          "text": [
            "/usr/local/lib/python3.6/dist-packages/sklearn/linear_model/_logistic.py:940: ConvergenceWarning: lbfgs failed to converge (status=1):\n",
            "STOP: TOTAL NO. of ITERATIONS REACHED LIMIT.\n",
            "\n",
            "Increase the number of iterations (max_iter) or scale the data as shown in:\n",
            "    https://scikit-learn.org/stable/modules/preprocessing.html\n",
            "Please also refer to the documentation for alternative solver options:\n",
            "    https://scikit-learn.org/stable/modules/linear_model.html#logistic-regression\n",
            "  extra_warning_msg=_LOGISTIC_SOLVER_CONVERGENCE_MSG)\n"
          ],
          "name": "stderr"
        },
        {
          "output_type": "execute_result",
          "data": {
            "text/plain": [
              "LogisticRegression(C=1.0, class_weight=None, dual=False, fit_intercept=True,\n",
              "                   intercept_scaling=1, l1_ratio=None, max_iter=100,\n",
              "                   multi_class='auto', n_jobs=None, penalty='l2',\n",
              "                   random_state=None, solver='lbfgs', tol=0.0001, verbose=0,\n",
              "                   warm_start=False)"
            ]
          },
          "metadata": {
            "tags": []
          },
          "execution_count": 3
        }
      ]
    },
    {
      "cell_type": "code",
      "metadata": {
        "id": "dgNz5-Bp_zwv",
        "colab_type": "code",
        "outputId": "00199af6-2d4f-45d4-a3ec-221f48b0ee1a",
        "colab": {
          "base_uri": "https://localhost:8080/",
          "height": 34
        }
      },
      "source": [
        "logisticReg.predict(x_test[0:10])"
      ],
      "execution_count": 0,
      "outputs": [
        {
          "output_type": "execute_result",
          "data": {
            "text/plain": [
              "array([2, 8, 2, 6, 6, 7, 1, 9, 8, 5])"
            ]
          },
          "metadata": {
            "tags": []
          },
          "execution_count": 4
        }
      ]
    },
    {
      "cell_type": "code",
      "metadata": {
        "id": "az6fG8HG_6ca",
        "colab_type": "code",
        "outputId": "272a4c63-b08e-48cb-bbfa-90f3f27f8e15",
        "colab": {
          "base_uri": "https://localhost:8080/",
          "height": 34
        }
      },
      "source": [
        "predictions = logisticReg.predict(x_test)\n",
        "score = logisticReg.score(x_test, y_test)\n",
        "print(score)"
      ],
      "execution_count": 0,
      "outputs": [
        {
          "output_type": "stream",
          "text": [
            "0.9666666666666667\n"
          ],
          "name": "stdout"
        }
      ]
    },
    {
      "cell_type": "code",
      "metadata": {
        "id": "BAP6du2DAAHv",
        "colab_type": "code",
        "outputId": "9d084573-d112-42b1-c94a-3ec8afe7e815",
        "colab": {
          "base_uri": "https://localhost:8080/",
          "height": 187
        }
      },
      "source": [
        "from sklearn import metrics\n",
        "conf_matrix = metrics.confusion_matrix(y_test, predictions)\n",
        "print(conf_matrix)"
      ],
      "execution_count": 0,
      "outputs": [
        {
          "output_type": "stream",
          "text": [
            "[[27  0  0  0  0  0  0  0  0  0]\n",
            " [ 0 34  0  0  0  0  0  0  1  0]\n",
            " [ 0  0 35  1  0  0  0  0  0  0]\n",
            " [ 0  0  0 29  0  0  0  0  0  0]\n",
            " [ 0  0  0  0 29  0  0  1  0  0]\n",
            " [ 0  0  0  0  0 37  0  0  0  3]\n",
            " [ 0  1  0  0  0  0 43  0  0  0]\n",
            " [ 0  0  0  0  1  0  0 38  0  0]\n",
            " [ 0  2  1  0  0  0  0  0 36  0]\n",
            " [ 0  0  0  0  0  1  0  0  0 40]]\n"
          ],
          "name": "stdout"
        }
      ]
    },
    {
      "cell_type": "code",
      "metadata": {
        "id": "fyaYpA0PAaZI",
        "colab_type": "code",
        "outputId": "90901f8f-22a9-4ee5-fe05-dfa781c1f849",
        "colab": {
          "base_uri": "https://localhost:8080/",
          "height": 380
        }
      },
      "source": [
        "import seaborn as sns\n",
        "plt.figure(figsize=(6,6))\n",
        "sns.heatmap(conf_matrix, annot=True, square = True)\n",
        "plt.ylabel('Actual label')\n",
        "plt.xlabel('Predicted label')\n",
        "plt.title('Accuracy score: {0}'.format(score, size = 10))"
      ],
      "execution_count": 0,
      "outputs": [
        {
          "output_type": "execute_result",
          "data": {
            "text/plain": [
              "Text(0.5, 1, 'Accuracy score: 0.9666666666666667')"
            ]
          },
          "metadata": {
            "tags": []
          },
          "execution_count": 7
        },
        {
          "output_type": "display_data",
          "data": {
            "image/png": "[encoded data removed]",
            "text/plain": [
              "<Figure size 432x432 with 2 Axes>"
            ]
          },
          "metadata": {
            "tags": []
          }
        }
      ]
    },
    {
      "cell_type": "code",
      "metadata": {
        "id": "vjnGqJhdBVq5",
        "colab_type": "code",
        "colab": {}
      },
      "source": [
        "from sklearn.datasets import fetch_openml\n",
        "\n",
        "X, y = fetch_openml('mnist_784', version=1, return_X_y=True)\n",
        "\n",
        "x_train, x_test, y_train, y_test = train_test_split(X, y, test_size=0.2, random_state=0)"
      ],
      "execution_count": 0,
      "outputs": []
    },
    {
      "cell_type": "code",
      "metadata": {
        "id": "Zqt7_NzQC-Ke",
        "colab_type": "code",
        "colab": {}
      },
      "source": [
        "from sklearn.preprocessing import StandardScaler\n",
        "scaler = StandardScaler()\n",
        "x_train = scaler.fit_transform(x_train)\n",
        "x_test = scaler.transform(x_test)"
      ],
      "execution_count": 0,
      "outputs": []
    },
    {
      "cell_type": "code",
      "metadata": {
        "id": "mMiY3tX9ETUz",
        "colab_type": "code",
        "colab": {}
      },
      "source": [
        "clf = LogisticRegression(C = 50. / 56000, solver='lbfgs', tol=0.1)"
      ],
      "execution_count": 0,
      "outputs": []
    },
    {
      "cell_type": "code",
      "metadata": {
        "id": "Q1ChAs-4E0Gj",
        "colab_type": "code",
        "outputId": "e3c60d22-dc22-42a1-e436-bff309b28fb6",
        "colab": {
          "base_uri": "https://localhost:8080/",
          "height": 190
        }
      },
      "source": [
        "import time\n",
        "t0 = time.time()\n",
        "clf.fit(x_train, y_train)\n",
        "run_time = time.time() - t0\n",
        "print(run_time)"
      ],
      "execution_count": 0,
      "outputs": [
        {
          "output_type": "stream",
          "text": [
            "31.141607761383057\n"
          ],
          "name": "stdout"
        },
        {
          "output_type": "stream",
          "text": [
            "/usr/local/lib/python3.6/dist-packages/sklearn/linear_model/_logistic.py:940: ConvergenceWarning: lbfgs failed to converge (status=1):\n",
            "STOP: TOTAL NO. of ITERATIONS REACHED LIMIT.\n",
            "\n",
            "Increase the number of iterations (max_iter) or scale the data as shown in:\n",
            "    https://scikit-learn.org/stable/modules/preprocessing.html\n",
            "Please also refer to the documentation for alternative solver options:\n",
            "    https://scikit-learn.org/stable/modules/linear_model.html#logistic-regression\n",
            "  extra_warning_msg=_LOGISTIC_SOLVER_CONVERGENCE_MSG)\n"
          ],
          "name": "stderr"
        }
      ]
    },
    {
      "cell_type": "code",
      "metadata": {
        "id": "f2pY8ZwmFbnO",
        "colab_type": "code",
        "outputId": "f263e03e-a480-40f4-cf86-8dd0401081fb",
        "colab": {
          "base_uri": "https://localhost:8080/",
          "height": 34
        }
      },
      "source": [
        "score = clf.score(x_test, y_test)\n",
        "print(\"Test score = %.4f\" % score)"
      ],
      "execution_count": 0,
      "outputs": [
        {
          "output_type": "stream",
          "text": [
            "Test score = 0.9124\n"
          ],
          "name": "stdout"
        }
      ]
    },
    {
      "cell_type": "code",
      "metadata": {
        "id": "gn4X92glFwfu",
        "colab_type": "code",
        "outputId": "37829c31-24f2-4e11-f854-deee23b3ae11",
        "colab": {
          "base_uri": "https://localhost:8080/",
          "height": 356
        }
      },
      "source": [
        "coef = clf.coef_.copy()\n",
        "plt.figure(figsize=(10, 5))\n",
        "scale = np.abs(coef).max()\n",
        "for i in range(10):\n",
        "    l1_plot = plt.subplot(2, 5, i + 1)\n",
        "    l1_plot.imshow(coef[i].reshape(28, 28), interpolation='nearest',\n",
        "                   cmap=plt.cm.coolwarm, vmin=-scale, vmax=scale)\n",
        "    l1_plot.set_xticks(())\n",
        "    l1_plot.set_yticks(())\n",
        "    l1_plot.set_xlabel('Class %i' % i)\n",
        "plt.suptitle('Classification vector for...')"
      ],
      "execution_count": 0,
      "outputs": [
        {
          "output_type": "execute_result",
          "data": {
            "text/plain": [
              "Text(0.5, 0.98, 'Classification vector for...')"
            ]
          },
          "metadata": {
            "tags": []
          },
          "execution_count": 23
        },
        {
          "output_type": "display_data",
          "data": {
            "image/png": "[encoded data removed]",
            "text/plain": [
              "<Figure size 720x360 with 10 Axes>"
            ]
          },
          "metadata": {
            "tags": []
          }
        }
      ]
    },
    {
      "cell_type": "code",
      "metadata": {
        "id": "MoyRK5zvpV8s",
        "colab_type": "code",
        "colab": {}
      },
      "source": [
        "clf = LogisticRegression(C = 50. / 56000, penalty='l1', solver='saga', tol=0.1)\n",
        "t0 = time.time()\n",
        "clf.fit(x_train, y_train)\n",
        "run_time = time.time() - t0"
      ],
      "execution_count": 0,
      "outputs": []
    },
    {
      "cell_type": "code",
      "metadata": {
        "id": "wkWOW5XIpyM7",
        "colab_type": "code",
        "outputId": "3ca4f1ea-689c-4fe5-8b40-c836c4673b41",
        "colab": {
          "base_uri": "https://localhost:8080/",
          "height": 34
        }
      },
      "source": [
        "print(run_time)"
      ],
      "execution_count": 0,
      "outputs": [
        {
          "output_type": "stream",
          "text": [
            "19.09871530532837\n"
          ],
          "name": "stdout"
        }
      ]
    },
    {
      "cell_type": "code",
      "metadata": {
        "id": "4ceckangp0kE",
        "colab_type": "code",
        "outputId": "4be13792-5bb6-4f15-a59b-c73e879852d5",
        "colab": {
          "base_uri": "https://localhost:8080/",
          "height": 373
        }
      },
      "source": [
        "coef = clf.coef_.copy()\n",
        "plt.figure(figsize=(10,5))\n",
        "scale = np.abs(coef).max()\n",
        "for i in range(10):\n",
        "  l1_plot = plt.subplot(2,5,i+1)\n",
        "  l1_plot.imshow(coef[i].reshape(28,28), interpolation='nearest',cmap=plt.cm.coolwarm, vmin=-scale, vmax=scale)\n",
        "  l1_plot.set_xlabel('Class %i' % i)\n",
        "plt.suptitle('Visualization of w for')"
      ],
      "execution_count": 0,
      "outputs": [
        {
          "output_type": "execute_result",
          "data": {
            "text/plain": [
              "Text(0.5, 0.98, 'Visualization of w for')"
            ]
          },
          "metadata": {
            "tags": []
          },
          "execution_count": 26
        },
        {
          "output_type": "display_data",
          "data": {
            "image/png": "[encoded data removed]",
            "text/plain": [
              "<Figure size 720x360 with 10 Axes>"
            ]
          },
          "metadata": {
            "tags": []
          }
        }
      ]
    },
    {
      "cell_type": "code",
      "metadata": {
        "id": "_Ofbwm3CrbNB",
        "colab_type": "code",
        "outputId": "1bc46a9c-e9f2-4283-b9ad-6589eda1a430",
        "colab": {
          "base_uri": "https://localhost:8080/",
          "height": 34
        }
      },
      "source": [
        "score = clf.score(x_test, y_test)\n",
        "print(\"Test score = %.4f\" % score)"
      ],
      "execution_count": 0,
      "outputs": [
        {
          "output_type": "stream",
          "text": [
            "Test score = 0.8314\n"
          ],
          "name": "stdout"
        }
      ]
    }
  ]
}