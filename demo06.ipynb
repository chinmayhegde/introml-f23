{
  "nbformat": 4,
  "nbformat_minor": 0,
  "metadata": {
    "colab": {
      "name": "demo3.ipynb",
      "provenance": []
    },
    "kernelspec": {
      "name": "python3",
      "display_name": "Python 3"
    }
  },
  "cells": [
    {
      "cell_type": "markdown",
      "metadata": {
        "id": "k2Xd_HtIH4gD",
        "colab_type": "text"
      },
      "source": [
        "This module explains the basics of optimization in ML and includes a simple implementation of gradient descent."
      ]
    },
    {
      "cell_type": "code",
      "metadata": {
        "id": "lGcG_dJvIUuy",
        "colab_type": "code",
        "colab": {}
      },
      "source": [
        "%matplotlib inline\n",
        "import numpy as np\n",
        "import matplotlib\n",
        "import matplotlib.pyplot as plt\n",
        "np.random.seed(1337)\n",
        "\n",
        "kwargs = {'linewidth' : 3.5}\n",
        "font = {'weight' : 'normal', 'size'   : 24}\n",
        "matplotlib.rc('font', **font)\n",
        "\n",
        "def error_plot(ys, yscale='log'):\n",
        "  plt.figure(figsize=(5, 5))\n",
        "  plt.xlabel('Step')\n",
        "  plt.ylabel('Error')\n",
        "  plt.yscale(yscale)\n",
        "  plt.plot(range(len(ys)), ys, **kwargs)"
      ],
      "execution_count": 0,
      "outputs": []
    },
    {
      "cell_type": "markdown",
      "metadata": {
        "id": "XpqGDtgILHJi",
        "colab_type": "text"
      },
      "source": [
        "Let's now implement GD in one line! This is probably not memory efficient but useful to visualize what is going on."
      ]
    },
    {
      "cell_type": "code",
      "metadata": {
        "id": "We_WORhQLO5O",
        "colab_type": "code",
        "colab": {}
      },
      "source": [
        "def gradient_descent(init, steps, grad):\n",
        "  xs = [init]\n",
        "  for step in steps:\n",
        "    xs.append(xs[-1] - step * grad(xs[-1])) \n",
        "  return xs"
      ],
      "execution_count": 0,
      "outputs": []
    },
    {
      "cell_type": "markdown",
      "metadata": {
        "id": "DT2FAwmRLa-y",
        "colab_type": "text"
      },
      "source": [
        "Toy example."
      ]
    },
    {
      "cell_type": "code",
      "metadata": {
        "id": "NVxGDvgELeZz",
        "colab_type": "code",
        "colab": {}
      },
      "source": [
        "def quadratic(x):\n",
        "  return 0.5*(x-7).dot(x-7)\n",
        "\n",
        "def quadratic_gradient(x):\n",
        "  return x-7"
      ],
      "execution_count": 0,
      "outputs": []
    },
    {
      "cell_type": "markdown",
      "metadata": {
        "id": "zVdp6dJiLwz3",
        "colab_type": "text"
      },
      "source": [
        "Test your GD optimizer!"
      ]
    },
    {
      "cell_type": "code",
      "metadata": {
        "id": "d-vZufqXLz0z",
        "colab_type": "code",
        "colab": {}
      },
      "source": [
        "x0 = np.random.normal(0,1,(1000))\n",
        "_, xout = gradient_descent(x0,[1.0],quadratic_gradient)"
      ],
      "execution_count": 0,
      "outputs": []
    },
    {
      "cell_type": "markdown",
      "metadata": {
        "id": "HOZoMDvPNrL4",
        "colab_type": "text"
      },
      "source": [
        "OK! looks like this ran quickly. In fact, for simple parabolic functions like this, GD optimizes in 1 step."
      ]
    },
    {
      "cell_type": "code",
      "metadata": {
        "id": "PDBGKginNz3b",
        "colab_type": "code",
        "outputId": "5649df45-f354-4821-8d25-59f8508a8cda",
        "colab": {
          "base_uri": "https://localhost:8080/",
          "height": 34
        }
      },
      "source": [
        "xout.shape\n"
      ],
      "execution_count": 0,
      "outputs": [
        {
          "output_type": "execute_result",
          "data": {
            "text/plain": [
              "(1000,)"
            ]
          },
          "metadata": {
            "tags": []
          },
          "execution_count": 53
        }
      ]
    },
    {
      "cell_type": "markdown",
      "metadata": {
        "id": "ZG0Cp180OA7s",
        "colab_type": "text"
      },
      "source": [
        "However, if we choose a smaller learning rate, things take longer."
      ]
    },
    {
      "cell_type": "code",
      "metadata": {
        "id": "iSDV_eE8PcDN",
        "colab_type": "code",
        "outputId": "6402ba92-58ad-403e-ad24-d37e01f7f7e7",
        "colab": {
          "base_uri": "https://localhost:8080/",
          "height": 362
        }
      },
      "source": [
        "xs = gradient_descent(x0, [0.1]*500, quadratic_gradient)\n",
        "error_plot([quadratic(x) for x in xs])"
      ],
      "execution_count": 0,
      "outputs": [
        {
          "output_type": "display_data",
          "data": {
            "image/png": "[encoded data removed]",
            "text/plain": [
              "<Figure size 360x360 with 1 Axes>"
            ]
          },
          "metadata": {
            "tags": []
          }
        }
      ]
    },
    {
      "cell_type": "markdown",
      "metadata": {
        "id": "F8XK0a0GUDh5",
        "colab_type": "text"
      },
      "source": [
        "Alright! Things seem to be converging. Lets now do linear regression. "
      ]
    },
    {
      "cell_type": "code",
      "metadata": {
        "id": "yJlxhhFsQhdq",
        "colab_type": "code",
        "colab": {}
      },
      "source": [
        "def MSE(X,y,w):\n",
        "  return 0.5*np.linalg.norm(X.dot(w)-y)**2\n",
        "\n",
        "def MSE_gradient(X,y,w):\n",
        "  return X.T.dot(X.dot(w)-y)"
      ],
      "execution_count": 0,
      "outputs": []
    },
    {
      "cell_type": "markdown",
      "metadata": {
        "id": "XdnFVo0ERQ3P",
        "colab_type": "text"
      },
      "source": [
        "We will cook up some fake data where the optimal regressor is known, so that we can compare errors."
      ]
    },
    {
      "cell_type": "code",
      "metadata": {
        "id": "zIYLGp_bRqdH",
        "colab_type": "code",
        "outputId": "bf315120-1f22-43e5-bc9a-14de8f2abf27",
        "colab": {
          "base_uri": "https://localhost:8080/",
          "height": 382
        }
      },
      "source": [
        "n,d = 100,10\n",
        "X = np.random.normal(0,1,(n,d))\n",
        "wtrue = np.random.normal(0,1,d)\n",
        "noise = np.random.normal(0,0.01,n)\n",
        "y = X.dot(wtrue) + noise\n",
        "\n",
        "objective = lambda w: MSE(X,y,w)\n",
        "gradient = lambda w: MSE_gradient(X,y,w)\n",
        "\n",
        "w0 = np.random.normal(0,1,d)\n",
        "ws = gradient_descent(w0,[0.001]*300,gradient)\n",
        "error_plot([objective(w) for w in ws])\n",
        "plt.plot(range(len(ws)),[MSE(X,y,wtrue)]*len(ws))"
      ],
      "execution_count": 0,
      "outputs": [
        {
          "output_type": "execute_result",
          "data": {
            "text/plain": [
              "[<matplotlib.lines.Line2D at 0x7f1905e9b4a8>]"
            ]
          },
          "metadata": {
            "tags": []
          },
          "execution_count": 58
        },
        {
          "output_type": "display_data",
          "data": {
            "image/png": "[encoded data removed]",
            "text/plain": [
              "<Figure size 360x360 with 1 Axes>"
            ]
          },
          "metadata": {
            "tags": []
          }
        }
      ]
    },
    {
      "cell_type": "markdown",
      "metadata": {
        "id": "6tA9cGyfVnFi",
        "colab_type": "text"
      },
      "source": [
        "Neat! The final MSE we get is very close to the noise level, which is basically as good as we can hope to do."
      ]
    },
    {
      "cell_type": "code",
      "metadata": {
        "id": "xMyviVyJWUQN",
        "colab_type": "code",
        "outputId": "d7d97ec2-c6f5-4a8d-9727-8d557e053e93",
        "colab": {
          "base_uri": "https://localhost:8080/",
          "height": 362
        }
      },
      "source": [
        "error_plot([np.linalg.norm(w-wtrue)**2 for w in ws])"
      ],
      "execution_count": 0,
      "outputs": [
        {
          "output_type": "display_data",
          "data": {
            "image/png": "[encoded data removed]",
            "text/plain": [
              "<Figure size 360x360 with 1 Axes>"
            ]
          },
          "metadata": {
            "tags": []
          }
        }
      ]
    },
    {
      "cell_type": "markdown",
      "metadata": {
        "id": "7x4ReEM9XPfD",
        "colab_type": "text"
      },
      "source": [
        "Play around with various parameters (step size, epochs, etc) to see what happens."
      ]
    }
  ]
}